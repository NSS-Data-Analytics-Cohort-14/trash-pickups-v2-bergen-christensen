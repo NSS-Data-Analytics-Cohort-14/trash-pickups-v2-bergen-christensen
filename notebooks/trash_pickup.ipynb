{
 "cells": [
  {
   "cell_type": "code",
   "execution_count": 1,
   "id": "d7729ea4-166a-436d-923b-8b1ac8965bbc",
   "metadata": {},
   "outputs": [],
   "source": [
    "import pandas as pd\n",
    "import geopandas as gpd\n",
    "import matplotlib.pyplot as plt\n",
    "import folium\n",
    "from folium.plugins import MarkerCluster\n",
    "from folium.plugins import FastMarkerCluster"
   ]
  },
  {
   "cell_type": "code",
   "execution_count": 2,
   "id": "e4e67d76-d67c-4d18-87e8-b229a499ba97",
   "metadata": {},
   "outputs": [],
   "source": [
    "trash_pickup_df=pd.read_csv('../data/trash_hauler_report_with_lat_lng.csv')"
   ]
  },
  {
   "cell_type": "markdown",
   "id": "c88f8e57-0072-4a5c-ad24-cc0bbe2ea380",
   "metadata": {},
   "source": [
    "As part of Metro's contract with Red River Waste Solutions, failure to remedy an action or inaction will result in liquidated damages. One category of liquidated damages is related to chronic problems in any category of service at the same premises. A chronic problem is defined as more than one missed pickup for any address. The first missed pickup will not result in a fine; however, every subsequent missed pickup will result in a $200 fine.\n",
    "\n",
    "Your job is to determine the total amount of damages due to missed pickups. Note that not all rows that you have been provided correspond to missed pickups and that you will need to ensure that you are only counting missed pickups."
   ]
  },
  {
   "cell_type": "code",
   "execution_count": 3,
   "id": "4dcec4c8-41a8-4299-b228-4afb4a70d544",
   "metadata": {},
   "outputs": [
    {
     "data": {
      "text/html": [
       "<div>\n",
       "<style scoped>\n",
       "    .dataframe tbody tr th:only-of-type {\n",
       "        vertical-align: middle;\n",
       "    }\n",
       "\n",
       "    .dataframe tbody tr th {\n",
       "        vertical-align: top;\n",
       "    }\n",
       "\n",
       "    .dataframe thead th {\n",
       "        text-align: right;\n",
       "    }\n",
       "</style>\n",
       "<table border=\"1\" class=\"dataframe\">\n",
       "  <thead>\n",
       "    <tr style=\"text-align: right;\">\n",
       "      <th></th>\n",
       "      <th>Request Number</th>\n",
       "      <th>Date Opened</th>\n",
       "      <th>Request</th>\n",
       "      <th>Description</th>\n",
       "      <th>Incident Address</th>\n",
       "      <th>Zip Code</th>\n",
       "      <th>Trash Hauler</th>\n",
       "      <th>Trash Route</th>\n",
       "      <th>Council District</th>\n",
       "      <th>State Plan X</th>\n",
       "      <th>State Plan Y</th>\n",
       "      <th>LONGITUDE</th>\n",
       "      <th>LATITUDE</th>\n",
       "    </tr>\n",
       "  </thead>\n",
       "  <tbody>\n",
       "    <tr>\n",
       "      <th>0</th>\n",
       "      <td>25270</td>\n",
       "      <td>11/1/2017</td>\n",
       "      <td>Trash - Backdoor</td>\n",
       "      <td>house with the wheel chair ramp, they share dr...</td>\n",
       "      <td>3817 Crouch Dr</td>\n",
       "      <td>37207.0</td>\n",
       "      <td>RED RIVER</td>\n",
       "      <td>3205</td>\n",
       "      <td>2.0</td>\n",
       "      <td>1727970.412</td>\n",
       "      <td>686779.4781</td>\n",
       "      <td>-86.815392</td>\n",
       "      <td>36.217292</td>\n",
       "    </tr>\n",
       "    <tr>\n",
       "      <th>1</th>\n",
       "      <td>25274</td>\n",
       "      <td>11/1/2017</td>\n",
       "      <td>Trash - Curbside/Alley Missed Pickup</td>\n",
       "      <td>Curb/Trash miss Tuesday.</td>\n",
       "      <td>4028 Clarksville Pike</td>\n",
       "      <td>37218.0</td>\n",
       "      <td>RED RIVER</td>\n",
       "      <td>4202</td>\n",
       "      <td>1.0</td>\n",
       "      <td>1721259.366</td>\n",
       "      <td>685444.7996</td>\n",
       "      <td>-86.838103</td>\n",
       "      <td>36.213470</td>\n",
       "    </tr>\n",
       "    <tr>\n",
       "      <th>2</th>\n",
       "      <td>25276</td>\n",
       "      <td>11/1/2017</td>\n",
       "      <td>Trash - Curbside/Alley Missed Pickup</td>\n",
       "      <td>Curb/trash miss Tuesday.</td>\n",
       "      <td>6528 Thunderbird Dr</td>\n",
       "      <td>37209.0</td>\n",
       "      <td>RED RIVER</td>\n",
       "      <td>4205</td>\n",
       "      <td>20.0</td>\n",
       "      <td>1707026.753</td>\n",
       "      <td>659887.4716</td>\n",
       "      <td>-86.885562</td>\n",
       "      <td>36.142923</td>\n",
       "    </tr>\n",
       "    <tr>\n",
       "      <th>3</th>\n",
       "      <td>25307</td>\n",
       "      <td>11/1/2017</td>\n",
       "      <td>Trash - Curbside/Alley Missed Pickup</td>\n",
       "      <td>missed</td>\n",
       "      <td>2603 old matthews rd</td>\n",
       "      <td>37207.0</td>\n",
       "      <td>WASTE IND</td>\n",
       "      <td>2206</td>\n",
       "      <td>2.0</td>\n",
       "      <td>1735691.771</td>\n",
       "      <td>685027.2459</td>\n",
       "      <td>-86.789170</td>\n",
       "      <td>36.212652</td>\n",
       "    </tr>\n",
       "    <tr>\n",
       "      <th>4</th>\n",
       "      <td>25312</td>\n",
       "      <td>11/1/2017</td>\n",
       "      <td>Trash - Curbside/Alley Missed Pickup</td>\n",
       "      <td>Missed the even side of the road.</td>\n",
       "      <td>604 croley dr</td>\n",
       "      <td>37209.0</td>\n",
       "      <td>RED RIVER</td>\n",
       "      <td>4203</td>\n",
       "      <td>20.0</td>\n",
       "      <td>1710185.772</td>\n",
       "      <td>664205.1011</td>\n",
       "      <td>-86.874995</td>\n",
       "      <td>36.154861</td>\n",
       "    </tr>\n",
       "  </tbody>\n",
       "</table>\n",
       "</div>"
      ],
      "text/plain": [
       "   Request Number Date Opened                               Request  \\\n",
       "0           25270   11/1/2017                      Trash - Backdoor   \n",
       "1           25274   11/1/2017  Trash - Curbside/Alley Missed Pickup   \n",
       "2           25276   11/1/2017  Trash - Curbside/Alley Missed Pickup   \n",
       "3           25307   11/1/2017  Trash - Curbside/Alley Missed Pickup   \n",
       "4           25312   11/1/2017  Trash - Curbside/Alley Missed Pickup   \n",
       "\n",
       "                                         Description       Incident Address  \\\n",
       "0  house with the wheel chair ramp, they share dr...         3817 Crouch Dr   \n",
       "1                           Curb/Trash miss Tuesday.  4028 Clarksville Pike   \n",
       "2                           Curb/trash miss Tuesday.    6528 Thunderbird Dr   \n",
       "3                                             missed   2603 old matthews rd   \n",
       "4                  Missed the even side of the road.          604 croley dr   \n",
       "\n",
       "   Zip Code Trash Hauler Trash Route  Council District  State Plan X  \\\n",
       "0   37207.0    RED RIVER        3205               2.0   1727970.412   \n",
       "1   37218.0    RED RIVER        4202               1.0   1721259.366   \n",
       "2   37209.0    RED RIVER        4205              20.0   1707026.753   \n",
       "3   37207.0    WASTE IND        2206               2.0   1735691.771   \n",
       "4   37209.0    RED RIVER        4203              20.0   1710185.772   \n",
       "\n",
       "   State Plan Y  LONGITUDE   LATITUDE  \n",
       "0   686779.4781 -86.815392  36.217292  \n",
       "1   685444.7996 -86.838103  36.213470  \n",
       "2   659887.4716 -86.885562  36.142923  \n",
       "3   685027.2459 -86.789170  36.212652  \n",
       "4   664205.1011 -86.874995  36.154861  "
      ]
     },
     "execution_count": 3,
     "metadata": {},
     "output_type": "execute_result"
    }
   ],
   "source": [
    "trash_pickup_df.head()"
   ]
  },
  {
   "cell_type": "code",
   "execution_count": 4,
   "id": "9f231724-e475-4b81-8818-d2d378e15a7b",
   "metadata": {},
   "outputs": [
    {
     "data": {
      "text/html": [
       "<div>\n",
       "<style scoped>\n",
       "    .dataframe tbody tr th:only-of-type {\n",
       "        vertical-align: middle;\n",
       "    }\n",
       "\n",
       "    .dataframe tbody tr th {\n",
       "        vertical-align: top;\n",
       "    }\n",
       "\n",
       "    .dataframe thead th {\n",
       "        text-align: right;\n",
       "    }\n",
       "</style>\n",
       "<table border=\"1\" class=\"dataframe\">\n",
       "  <thead>\n",
       "    <tr style=\"text-align: right;\">\n",
       "      <th></th>\n",
       "      <th>Request Number</th>\n",
       "      <th>Date Opened</th>\n",
       "      <th>Request</th>\n",
       "      <th>Description</th>\n",
       "      <th>Incident Address</th>\n",
       "      <th>Zip Code</th>\n",
       "      <th>Trash Hauler</th>\n",
       "      <th>Trash Route</th>\n",
       "      <th>Council District</th>\n",
       "      <th>State Plan X</th>\n",
       "      <th>State Plan Y</th>\n",
       "      <th>LONGITUDE</th>\n",
       "      <th>LATITUDE</th>\n",
       "    </tr>\n",
       "  </thead>\n",
       "  <tbody>\n",
       "    <tr>\n",
       "      <th>20221</th>\n",
       "      <td>267125</td>\n",
       "      <td>11/1/2019</td>\n",
       "      <td>Trash - Curbside/Alley Missed Pickup</td>\n",
       "      <td>MISSED...NEIGHBORS MISSED</td>\n",
       "      <td>2731 Murfreesboro Pike</td>\n",
       "      <td>37013.0</td>\n",
       "      <td>RED RIVER</td>\n",
       "      <td>4502</td>\n",
       "      <td>32.0</td>\n",
       "      <td>1781137.263</td>\n",
       "      <td>632448.5511</td>\n",
       "      <td>-86.633970</td>\n",
       "      <td>36.069130</td>\n",
       "    </tr>\n",
       "    <tr>\n",
       "      <th>20222</th>\n",
       "      <td>267126</td>\n",
       "      <td>11/1/2019</td>\n",
       "      <td>Trash - Curbside/Alley Missed Pickup</td>\n",
       "      <td>entire alley</td>\n",
       "      <td>1621 Long Ave, Nashville, TN 37206, United States</td>\n",
       "      <td>37206.0</td>\n",
       "      <td>METRO</td>\n",
       "      <td>9508</td>\n",
       "      <td>6.0</td>\n",
       "      <td>1749711.399</td>\n",
       "      <td>669201.6016</td>\n",
       "      <td>-86.741242</td>\n",
       "      <td>36.169482</td>\n",
       "    </tr>\n",
       "    <tr>\n",
       "      <th>20223</th>\n",
       "      <td>267130</td>\n",
       "      <td>11/1/2019</td>\n",
       "      <td>Trash - Curbside/Alley Missed Pickup</td>\n",
       "      <td>missed several</td>\n",
       "      <td>2943 Windemere Cir, Nashville, TN 37214, Unite...</td>\n",
       "      <td>37214.0</td>\n",
       "      <td>RED RIVER</td>\n",
       "      <td>1502</td>\n",
       "      <td>15.0</td>\n",
       "      <td>1770293.388</td>\n",
       "      <td>674936.3038</td>\n",
       "      <td>-86.671647</td>\n",
       "      <td>36.185643</td>\n",
       "    </tr>\n",
       "    <tr>\n",
       "      <th>20224</th>\n",
       "      <td>267134</td>\n",
       "      <td>11/1/2019</td>\n",
       "      <td>Trash - Curbside/Alley Missed Pickup</td>\n",
       "      <td>Caller stated trash was missed &amp; were only pic...</td>\n",
       "      <td>3325 Murfreesboro Pike, Nashville, TN 37013, U...</td>\n",
       "      <td>37013.0</td>\n",
       "      <td>RED RIVER</td>\n",
       "      <td>4502</td>\n",
       "      <td>32.0</td>\n",
       "      <td>1785224.998</td>\n",
       "      <td>627146.4002</td>\n",
       "      <td>-86.620025</td>\n",
       "      <td>36.054637</td>\n",
       "    </tr>\n",
       "    <tr>\n",
       "      <th>20225</th>\n",
       "      <td>267137</td>\n",
       "      <td>11/1/2019</td>\n",
       "      <td>Trash - Curbside/Alley Missed Pickup</td>\n",
       "      <td>possibly others missed as well</td>\n",
       "      <td>604 Somerset Ct, Nashville, TN 37217, United S...</td>\n",
       "      <td>37217.0</td>\n",
       "      <td>RED RIVER</td>\n",
       "      <td>2505</td>\n",
       "      <td>29.0</td>\n",
       "      <td>1781360.323</td>\n",
       "      <td>637742.0068</td>\n",
       "      <td>-86.633331</td>\n",
       "      <td>36.083675</td>\n",
       "    </tr>\n",
       "  </tbody>\n",
       "</table>\n",
       "</div>"
      ],
      "text/plain": [
       "       Request Number Date Opened                               Request  \\\n",
       "20221          267125   11/1/2019  Trash - Curbside/Alley Missed Pickup   \n",
       "20222          267126   11/1/2019  Trash - Curbside/Alley Missed Pickup   \n",
       "20223          267130   11/1/2019  Trash - Curbside/Alley Missed Pickup   \n",
       "20224          267134   11/1/2019  Trash - Curbside/Alley Missed Pickup   \n",
       "20225          267137   11/1/2019  Trash - Curbside/Alley Missed Pickup   \n",
       "\n",
       "                                             Description  \\\n",
       "20221                          MISSED...NEIGHBORS MISSED   \n",
       "20222                                       entire alley   \n",
       "20223                                     missed several   \n",
       "20224  Caller stated trash was missed & were only pic...   \n",
       "20225                     possibly others missed as well   \n",
       "\n",
       "                                        Incident Address  Zip Code  \\\n",
       "20221                             2731 Murfreesboro Pike   37013.0   \n",
       "20222  1621 Long Ave, Nashville, TN 37206, United States   37206.0   \n",
       "20223  2943 Windemere Cir, Nashville, TN 37214, Unite...   37214.0   \n",
       "20224  3325 Murfreesboro Pike, Nashville, TN 37013, U...   37013.0   \n",
       "20225  604 Somerset Ct, Nashville, TN 37217, United S...   37217.0   \n",
       "\n",
       "      Trash Hauler Trash Route  Council District  State Plan X  State Plan Y  \\\n",
       "20221    RED RIVER        4502              32.0   1781137.263   632448.5511   \n",
       "20222        METRO        9508               6.0   1749711.399   669201.6016   \n",
       "20223    RED RIVER        1502              15.0   1770293.388   674936.3038   \n",
       "20224    RED RIVER        4502              32.0   1785224.998   627146.4002   \n",
       "20225    RED RIVER        2505              29.0   1781360.323   637742.0068   \n",
       "\n",
       "       LONGITUDE   LATITUDE  \n",
       "20221 -86.633970  36.069130  \n",
       "20222 -86.741242  36.169482  \n",
       "20223 -86.671647  36.185643  \n",
       "20224 -86.620025  36.054637  \n",
       "20225 -86.633331  36.083675  "
      ]
     },
     "execution_count": 4,
     "metadata": {},
     "output_type": "execute_result"
    }
   ],
   "source": [
    "trash_pickup_df.tail()"
   ]
  },
  {
   "cell_type": "code",
   "execution_count": 5,
   "id": "b9047ce5-5104-4fa5-b0f6-a19844a1e35b",
   "metadata": {},
   "outputs": [
    {
     "name": "stdout",
     "output_type": "stream",
     "text": [
      "<class 'pandas.core.frame.DataFrame'>\n",
      "RangeIndex: 20226 entries, 0 to 20225\n",
      "Data columns (total 13 columns):\n",
      " #   Column            Non-Null Count  Dtype  \n",
      "---  ------            --------------  -----  \n",
      " 0   Request Number    20226 non-null  int64  \n",
      " 1   Date Opened       20226 non-null  object \n",
      " 2   Request           20226 non-null  object \n",
      " 3   Description       20195 non-null  object \n",
      " 4   Incident Address  20217 non-null  object \n",
      " 5   Zip Code          20151 non-null  float64\n",
      " 6   Trash Hauler      19325 non-null  object \n",
      " 7   Trash Route       19279 non-null  object \n",
      " 8   Council District  20177 non-null  float64\n",
      " 9   State Plan X      20198 non-null  float64\n",
      " 10  State Plan Y      20198 non-null  float64\n",
      " 11  LONGITUDE         20198 non-null  float64\n",
      " 12  LATITUDE          20198 non-null  float64\n",
      "dtypes: float64(6), int64(1), object(6)\n",
      "memory usage: 2.0+ MB\n"
     ]
    }
   ],
   "source": [
    "trash_pickup_df.info()"
   ]
  },
  {
   "cell_type": "code",
   "execution_count": 6,
   "id": "e40137eb-6e99-40f1-b6d2-67d60d625782",
   "metadata": {},
   "outputs": [
    {
     "data": {
      "text/plain": [
       "(20226, 13)"
      ]
     },
     "execution_count": 6,
     "metadata": {},
     "output_type": "execute_result"
    }
   ],
   "source": [
    "trash_pickup_df.shape"
   ]
  },
  {
   "cell_type": "code",
   "execution_count": 7,
   "id": "be1436b8-04f8-46e7-9672-d1f479bd6bf2",
   "metadata": {},
   "outputs": [],
   "source": [
    "rr_trash=trash_pickup_df[trash_pickup_df['Trash Hauler'] == 'RED RIVER']"
   ]
  },
  {
   "cell_type": "code",
   "execution_count": 8,
   "id": "c8a21587-5e79-417d-a416-b25b3c2cf177",
   "metadata": {},
   "outputs": [
    {
     "data": {
      "text/html": [
       "<div>\n",
       "<style scoped>\n",
       "    .dataframe tbody tr th:only-of-type {\n",
       "        vertical-align: middle;\n",
       "    }\n",
       "\n",
       "    .dataframe tbody tr th {\n",
       "        vertical-align: top;\n",
       "    }\n",
       "\n",
       "    .dataframe thead th {\n",
       "        text-align: right;\n",
       "    }\n",
       "</style>\n",
       "<table border=\"1\" class=\"dataframe\">\n",
       "  <thead>\n",
       "    <tr style=\"text-align: right;\">\n",
       "      <th></th>\n",
       "      <th>Request Number</th>\n",
       "      <th>Date Opened</th>\n",
       "      <th>Request</th>\n",
       "      <th>Description</th>\n",
       "      <th>Incident Address</th>\n",
       "      <th>Zip Code</th>\n",
       "      <th>Trash Hauler</th>\n",
       "      <th>Trash Route</th>\n",
       "      <th>Council District</th>\n",
       "      <th>State Plan X</th>\n",
       "      <th>State Plan Y</th>\n",
       "      <th>LONGITUDE</th>\n",
       "      <th>LATITUDE</th>\n",
       "    </tr>\n",
       "  </thead>\n",
       "  <tbody>\n",
       "    <tr>\n",
       "      <th>0</th>\n",
       "      <td>25270</td>\n",
       "      <td>11/1/2017</td>\n",
       "      <td>Trash - Backdoor</td>\n",
       "      <td>house with the wheel chair ramp, they share dr...</td>\n",
       "      <td>3817 Crouch Dr</td>\n",
       "      <td>37207.0</td>\n",
       "      <td>RED RIVER</td>\n",
       "      <td>3205</td>\n",
       "      <td>2.0</td>\n",
       "      <td>1727970.412</td>\n",
       "      <td>686779.4781</td>\n",
       "      <td>-86.815392</td>\n",
       "      <td>36.217292</td>\n",
       "    </tr>\n",
       "    <tr>\n",
       "      <th>1</th>\n",
       "      <td>25274</td>\n",
       "      <td>11/1/2017</td>\n",
       "      <td>Trash - Curbside/Alley Missed Pickup</td>\n",
       "      <td>Curb/Trash miss Tuesday.</td>\n",
       "      <td>4028 Clarksville Pike</td>\n",
       "      <td>37218.0</td>\n",
       "      <td>RED RIVER</td>\n",
       "      <td>4202</td>\n",
       "      <td>1.0</td>\n",
       "      <td>1721259.366</td>\n",
       "      <td>685444.7996</td>\n",
       "      <td>-86.838103</td>\n",
       "      <td>36.213470</td>\n",
       "    </tr>\n",
       "    <tr>\n",
       "      <th>2</th>\n",
       "      <td>25276</td>\n",
       "      <td>11/1/2017</td>\n",
       "      <td>Trash - Curbside/Alley Missed Pickup</td>\n",
       "      <td>Curb/trash miss Tuesday.</td>\n",
       "      <td>6528 Thunderbird Dr</td>\n",
       "      <td>37209.0</td>\n",
       "      <td>RED RIVER</td>\n",
       "      <td>4205</td>\n",
       "      <td>20.0</td>\n",
       "      <td>1707026.753</td>\n",
       "      <td>659887.4716</td>\n",
       "      <td>-86.885562</td>\n",
       "      <td>36.142923</td>\n",
       "    </tr>\n",
       "    <tr>\n",
       "      <th>4</th>\n",
       "      <td>25312</td>\n",
       "      <td>11/1/2017</td>\n",
       "      <td>Trash - Curbside/Alley Missed Pickup</td>\n",
       "      <td>Missed the even side of the road.</td>\n",
       "      <td>604 croley dr</td>\n",
       "      <td>37209.0</td>\n",
       "      <td>RED RIVER</td>\n",
       "      <td>4203</td>\n",
       "      <td>20.0</td>\n",
       "      <td>1710185.772</td>\n",
       "      <td>664205.1011</td>\n",
       "      <td>-86.874995</td>\n",
       "      <td>36.154861</td>\n",
       "    </tr>\n",
       "    <tr>\n",
       "      <th>5</th>\n",
       "      <td>25317</td>\n",
       "      <td>11/1/2017</td>\n",
       "      <td>Trash Collection Complaint</td>\n",
       "      <td>left trash cart in middle of driveway instead ...</td>\n",
       "      <td>3602 floral dr</td>\n",
       "      <td>37211.0</td>\n",
       "      <td>RED RIVER</td>\n",
       "      <td>4304</td>\n",
       "      <td>16.0</td>\n",
       "      <td>1751660.164</td>\n",
       "      <td>643215.2011</td>\n",
       "      <td>-86.733980</td>\n",
       "      <td>36.098140</td>\n",
       "    </tr>\n",
       "  </tbody>\n",
       "</table>\n",
       "</div>"
      ],
      "text/plain": [
       "   Request Number Date Opened                               Request  \\\n",
       "0           25270   11/1/2017                      Trash - Backdoor   \n",
       "1           25274   11/1/2017  Trash - Curbside/Alley Missed Pickup   \n",
       "2           25276   11/1/2017  Trash - Curbside/Alley Missed Pickup   \n",
       "4           25312   11/1/2017  Trash - Curbside/Alley Missed Pickup   \n",
       "5           25317   11/1/2017            Trash Collection Complaint   \n",
       "\n",
       "                                         Description       Incident Address  \\\n",
       "0  house with the wheel chair ramp, they share dr...         3817 Crouch Dr   \n",
       "1                           Curb/Trash miss Tuesday.  4028 Clarksville Pike   \n",
       "2                           Curb/trash miss Tuesday.    6528 Thunderbird Dr   \n",
       "4                  Missed the even side of the road.          604 croley dr   \n",
       "5  left trash cart in middle of driveway instead ...         3602 floral dr   \n",
       "\n",
       "   Zip Code Trash Hauler Trash Route  Council District  State Plan X  \\\n",
       "0   37207.0    RED RIVER        3205               2.0   1727970.412   \n",
       "1   37218.0    RED RIVER        4202               1.0   1721259.366   \n",
       "2   37209.0    RED RIVER        4205              20.0   1707026.753   \n",
       "4   37209.0    RED RIVER        4203              20.0   1710185.772   \n",
       "5   37211.0    RED RIVER        4304              16.0   1751660.164   \n",
       "\n",
       "   State Plan Y  LONGITUDE   LATITUDE  \n",
       "0   686779.4781 -86.815392  36.217292  \n",
       "1   685444.7996 -86.838103  36.213470  \n",
       "2   659887.4716 -86.885562  36.142923  \n",
       "4   664205.1011 -86.874995  36.154861  \n",
       "5   643215.2011 -86.733980  36.098140  "
      ]
     },
     "execution_count": 8,
     "metadata": {},
     "output_type": "execute_result"
    }
   ],
   "source": [
    "rr_trash.head()"
   ]
  },
  {
   "cell_type": "code",
   "execution_count": 9,
   "id": "b3466416-f002-4920-b3c3-b935a8be17d4",
   "metadata": {},
   "outputs": [
    {
     "data": {
      "text/plain": [
       "(14395, 13)"
      ]
     },
     "execution_count": 9,
     "metadata": {},
     "output_type": "execute_result"
    }
   ],
   "source": [
    "rr_trash.shape"
   ]
  },
  {
   "cell_type": "code",
   "execution_count": 10,
   "id": "61c2f579-1852-4532-9d14-e55c96a42d6b",
   "metadata": {},
   "outputs": [],
   "source": [
    "rr_missed_trash=rr_trash[rr_trash['Request'].str.contains('Missed Pickup', case=False, na=False)]"
   ]
  },
  {
   "cell_type": "code",
   "execution_count": 11,
   "id": "4b85a06c-0786-4e83-9dd8-968bec588018",
   "metadata": {},
   "outputs": [
    {
     "data": {
      "text/html": [
       "<div>\n",
       "<style scoped>\n",
       "    .dataframe tbody tr th:only-of-type {\n",
       "        vertical-align: middle;\n",
       "    }\n",
       "\n",
       "    .dataframe tbody tr th {\n",
       "        vertical-align: top;\n",
       "    }\n",
       "\n",
       "    .dataframe thead th {\n",
       "        text-align: right;\n",
       "    }\n",
       "</style>\n",
       "<table border=\"1\" class=\"dataframe\">\n",
       "  <thead>\n",
       "    <tr style=\"text-align: right;\">\n",
       "      <th></th>\n",
       "      <th>Request Number</th>\n",
       "      <th>Date Opened</th>\n",
       "      <th>Request</th>\n",
       "      <th>Description</th>\n",
       "      <th>Incident Address</th>\n",
       "      <th>Zip Code</th>\n",
       "      <th>Trash Hauler</th>\n",
       "      <th>Trash Route</th>\n",
       "      <th>Council District</th>\n",
       "      <th>State Plan X</th>\n",
       "      <th>State Plan Y</th>\n",
       "      <th>LONGITUDE</th>\n",
       "      <th>LATITUDE</th>\n",
       "    </tr>\n",
       "  </thead>\n",
       "  <tbody>\n",
       "    <tr>\n",
       "      <th>1</th>\n",
       "      <td>25274</td>\n",
       "      <td>11/1/2017</td>\n",
       "      <td>Trash - Curbside/Alley Missed Pickup</td>\n",
       "      <td>Curb/Trash miss Tuesday.</td>\n",
       "      <td>4028 Clarksville Pike</td>\n",
       "      <td>37218.0</td>\n",
       "      <td>RED RIVER</td>\n",
       "      <td>4202</td>\n",
       "      <td>1.0</td>\n",
       "      <td>1721259.366</td>\n",
       "      <td>685444.7996</td>\n",
       "      <td>-86.838103</td>\n",
       "      <td>36.213470</td>\n",
       "    </tr>\n",
       "    <tr>\n",
       "      <th>2</th>\n",
       "      <td>25276</td>\n",
       "      <td>11/1/2017</td>\n",
       "      <td>Trash - Curbside/Alley Missed Pickup</td>\n",
       "      <td>Curb/trash miss Tuesday.</td>\n",
       "      <td>6528 Thunderbird Dr</td>\n",
       "      <td>37209.0</td>\n",
       "      <td>RED RIVER</td>\n",
       "      <td>4205</td>\n",
       "      <td>20.0</td>\n",
       "      <td>1707026.753</td>\n",
       "      <td>659887.4716</td>\n",
       "      <td>-86.885562</td>\n",
       "      <td>36.142923</td>\n",
       "    </tr>\n",
       "    <tr>\n",
       "      <th>4</th>\n",
       "      <td>25312</td>\n",
       "      <td>11/1/2017</td>\n",
       "      <td>Trash - Curbside/Alley Missed Pickup</td>\n",
       "      <td>Missed the even side of the road.</td>\n",
       "      <td>604 croley dr</td>\n",
       "      <td>37209.0</td>\n",
       "      <td>RED RIVER</td>\n",
       "      <td>4203</td>\n",
       "      <td>20.0</td>\n",
       "      <td>1710185.772</td>\n",
       "      <td>664205.1011</td>\n",
       "      <td>-86.874995</td>\n",
       "      <td>36.154861</td>\n",
       "    </tr>\n",
       "    <tr>\n",
       "      <th>8</th>\n",
       "      <td>25330</td>\n",
       "      <td>11/1/2017</td>\n",
       "      <td>Trash - Curbside/Alley Missed Pickup</td>\n",
       "      <td>Missed.</td>\n",
       "      <td>4484 Lavergne Couchville Pike</td>\n",
       "      <td>37013.0</td>\n",
       "      <td>RED RIVER</td>\n",
       "      <td>4210</td>\n",
       "      <td>33.0</td>\n",
       "      <td>1794533.514</td>\n",
       "      <td>618749.3427</td>\n",
       "      <td>-86.588364</td>\n",
       "      <td>36.031728</td>\n",
       "    </tr>\n",
       "    <tr>\n",
       "      <th>10</th>\n",
       "      <td>25341</td>\n",
       "      <td>11/1/2017</td>\n",
       "      <td>Trash - Curbside/Alley Missed Pickup</td>\n",
       "      <td>Missed trash pickup - resident has at curb for...</td>\n",
       "      <td>3113 HYDES FERRY RD</td>\n",
       "      <td>37218.0</td>\n",
       "      <td>RED RIVER</td>\n",
       "      <td>4204</td>\n",
       "      <td>2.0</td>\n",
       "      <td>1721577.768</td>\n",
       "      <td>676018.3999</td>\n",
       "      <td>-86.836750</td>\n",
       "      <td>36.187584</td>\n",
       "    </tr>\n",
       "  </tbody>\n",
       "</table>\n",
       "</div>"
      ],
      "text/plain": [
       "    Request Number Date Opened                               Request  \\\n",
       "1            25274   11/1/2017  Trash - Curbside/Alley Missed Pickup   \n",
       "2            25276   11/1/2017  Trash - Curbside/Alley Missed Pickup   \n",
       "4            25312   11/1/2017  Trash - Curbside/Alley Missed Pickup   \n",
       "8            25330   11/1/2017  Trash - Curbside/Alley Missed Pickup   \n",
       "10           25341   11/1/2017  Trash - Curbside/Alley Missed Pickup   \n",
       "\n",
       "                                          Description  \\\n",
       "1                            Curb/Trash miss Tuesday.   \n",
       "2                            Curb/trash miss Tuesday.   \n",
       "4                   Missed the even side of the road.   \n",
       "8                                             Missed.   \n",
       "10  Missed trash pickup - resident has at curb for...   \n",
       "\n",
       "                 Incident Address  Zip Code Trash Hauler Trash Route  \\\n",
       "1           4028 Clarksville Pike   37218.0    RED RIVER        4202   \n",
       "2             6528 Thunderbird Dr   37209.0    RED RIVER        4205   \n",
       "4                   604 croley dr   37209.0    RED RIVER        4203   \n",
       "8   4484 Lavergne Couchville Pike   37013.0    RED RIVER        4210   \n",
       "10            3113 HYDES FERRY RD   37218.0    RED RIVER        4204   \n",
       "\n",
       "    Council District  State Plan X  State Plan Y  LONGITUDE   LATITUDE  \n",
       "1                1.0   1721259.366   685444.7996 -86.838103  36.213470  \n",
       "2               20.0   1707026.753   659887.4716 -86.885562  36.142923  \n",
       "4               20.0   1710185.772   664205.1011 -86.874995  36.154861  \n",
       "8               33.0   1794533.514   618749.3427 -86.588364  36.031728  \n",
       "10               2.0   1721577.768   676018.3999 -86.836750  36.187584  "
      ]
     },
     "execution_count": 11,
     "metadata": {},
     "output_type": "execute_result"
    }
   ],
   "source": [
    "rr_missed_trash.head()"
   ]
  },
  {
   "cell_type": "code",
   "execution_count": 12,
   "id": "582cad21-3a0a-4122-ba0a-2deee885d6ac",
   "metadata": {},
   "outputs": [
    {
     "data": {
      "text/plain": [
       "(10715, 13)"
      ]
     },
     "execution_count": 12,
     "metadata": {},
     "output_type": "execute_result"
    }
   ],
   "source": [
    "rr_missed_trash.shape"
   ]
  },
  {
   "cell_type": "code",
   "execution_count": 13,
   "id": "59ad73a3-7a07-46b8-8bf5-2b6dc7a2d6cf",
   "metadata": {},
   "outputs": [],
   "source": [
    "rr_group_trash=rr_missed_trash.groupby('Incident Address')['Request'].count().sort_index()"
   ]
  },
  {
   "cell_type": "code",
   "execution_count": 14,
   "id": "8dbfc449-a548-4c67-82c1-38664e5dc470",
   "metadata": {},
   "outputs": [
    {
     "data": {
      "text/plain": [
       "<bound method NDFrame.tail of Incident Address\n",
       "100 Bluefield Square, Nashville, TN 37214, United States    1\n",
       "100 Braxton Hill Ct                                         1\n",
       "100 Brook Hollow Rd                                         1\n",
       "100 Clydelan Ct, Nashville, TN 37205, United States         2\n",
       "100 Desoto Dr, Nashville, TN 37210, United States           1\n",
       "                                                           ..\n",
       "Old Tusculum Rd, Antioch, Tennessee, 37013                  1\n",
       "Queens Ln, Nashville, TN 37218, United States               1\n",
       "Robin Springs Rd                                            1\n",
       "Trevino Pl, Nashville, TN 37013, United States              1\n",
       "Westboro Dr, Nashville, TN 37209, United States             1\n",
       "Name: Request, Length: 8190, dtype: int64>"
      ]
     },
     "execution_count": 14,
     "metadata": {},
     "output_type": "execute_result"
    }
   ],
   "source": [
    "rr_group_trash.tail"
   ]
  },
  {
   "cell_type": "code",
   "execution_count": 15,
   "id": "5123265a-20aa-4b5f-9853-56ec417e1c1e",
   "metadata": {},
   "outputs": [],
   "source": [
    "rr_group_trash = rr_group_trash[rr_group_trash > 1]"
   ]
  },
  {
   "cell_type": "code",
   "execution_count": 16,
   "id": "fa488d6b-e6fc-4cc3-9347-c423a3bed57b",
   "metadata": {},
   "outputs": [
    {
     "name": "stdout",
     "output_type": "stream",
     "text": [
      "Incident Address\n",
      "100 Clydelan Ct, Nashville, TN 37205, United States        2\n",
      "100 Lincoln Ct, Nashville, TN 37205, United States         2\n",
      "100 Nashboro Greens, Nashville, TN 37217, United States    2\n",
      "100 Rhine Dr, Nashville, TN 37115, United States           2\n",
      "1000 Flintlock Ct, Nashville, TN 37217, United States      2\n",
      "                                                          ..\n",
      "946 Youngs Ln                                              2\n",
      "947 Glendale Ln, Nashville, TN 37204, United States        2\n",
      "960 44th Ave N, Nashville, TN 37209, United States         2\n",
      "971 Windrowe Dr, Nashville, TN 37205, United States        2\n",
      "986 Malquin Dr, Nashville, TN 37216, United States         2\n",
      "Name: Request, Length: 1551, dtype: int64\n"
     ]
    }
   ],
   "source": [
    "print(rr_group_trash)"
   ]
  },
  {
   "cell_type": "code",
   "execution_count": 17,
   "id": "4d8704af-51af-44b4-930e-0c0f5095a72d",
   "metadata": {},
   "outputs": [
    {
     "name": "stdout",
     "output_type": "stream",
     "text": [
      "4075\n"
     ]
    }
   ],
   "source": [
    "total_sum=rr_group_trash.sum()\n",
    "print(total_sum)"
   ]
  },
  {
   "cell_type": "code",
   "execution_count": 18,
   "id": "6b1086bf-8412-44bb-94e5-9dddde96cce4",
   "metadata": {
    "scrolled": true
   },
   "outputs": [
    {
     "name": "stdout",
     "output_type": "stream",
     "text": [
      "1551\n"
     ]
    }
   ],
   "source": [
    "count_of_repeat=rr_group_trash.count()\n",
    "print(count_of_repeat)"
   ]
  },
  {
   "cell_type": "markdown",
   "id": "32681b35-9e3d-48a1-a599-31a7b20d8559",
   "metadata": {},
   "source": [
    "4075 requests from addresses used more than once - 1551(1 for each address)= 2524 * 200 fine= $504800"
   ]
  },
  {
   "cell_type": "markdown",
   "id": "5ea1cf5d-0689-4db1-8c61-49924571b652",
   "metadata": {},
   "source": [
    "* What other types of complaints are there?\n",
    "* Are there any geospatial analysis you can do?  Which visualizations can you create?\n",
    "* How do metro crews compare to the contractor's performance?\n",
    "* How much does each trash hauler owe?\n",
    "* What were to total missed pickup by route?"
   ]
  },
  {
   "cell_type": "code",
   "execution_count": 19,
   "id": "2a2faad5-dc87-460a-acc8-ae266d7796dc",
   "metadata": {},
   "outputs": [
    {
     "name": "stdout",
     "output_type": "stream",
     "text": [
      "504800\n"
     ]
    }
   ],
   "source": [
    "total_fines=(total_sum - count_of_repeat) * 200\n",
    "print(total_fines)"
   ]
  },
  {
   "cell_type": "code",
   "execution_count": 20,
   "id": "6906092f-f952-4bbe-a5ef-2b2bdfe8509c",
   "metadata": {
    "scrolled": true
   },
   "outputs": [
    {
     "name": "stdout",
     "output_type": "stream",
     "text": [
      "['Trash - Backdoor' 'Trash - Curbside/Alley Missed Pickup'\n",
      " 'Trash Collection Complaint' 'Damage to Property']\n"
     ]
    }
   ],
   "source": [
    "types_request=trash_pickup_df['Request'].unique()\n",
    "print(types_request)"
   ]
  },
  {
   "cell_type": "code",
   "execution_count": 21,
   "id": "ffd8f958-5f2e-4eef-8524-269a8e43e59d",
   "metadata": {},
   "outputs": [],
   "source": [
    "missed_trash_all=trash_pickup_df[trash_pickup_df['Request'].str.contains('Missed Pickup', case=False, na=False)]"
   ]
  },
  {
   "cell_type": "code",
   "execution_count": 22,
   "id": "faa40e70-35ad-4b7c-b171-431df7eb88a1",
   "metadata": {},
   "outputs": [],
   "source": [
    "missed_trash_all.loc[:,'Trash Hauler'] = missed_trash_all['Trash Hauler'].str.upper()"
   ]
  },
  {
   "cell_type": "code",
   "execution_count": 28,
   "id": "e1577205-8467-4f1f-ba4d-d29d308dfb78",
   "metadata": {
    "scrolled": true
   },
   "outputs": [
    {
     "data": {
      "text/plain": [
       "<bound method NDFrame.head of        Request Number Date Opened                               Request  \\\n",
       "1               25274   11/1/2017  Trash - Curbside/Alley Missed Pickup   \n",
       "2               25276   11/1/2017  Trash - Curbside/Alley Missed Pickup   \n",
       "3               25307   11/1/2017  Trash - Curbside/Alley Missed Pickup   \n",
       "4               25312   11/1/2017  Trash - Curbside/Alley Missed Pickup   \n",
       "8               25330   11/1/2017  Trash - Curbside/Alley Missed Pickup   \n",
       "...               ...         ...                                   ...   \n",
       "20221          267125   11/1/2019  Trash - Curbside/Alley Missed Pickup   \n",
       "20222          267126   11/1/2019  Trash - Curbside/Alley Missed Pickup   \n",
       "20223          267130   11/1/2019  Trash - Curbside/Alley Missed Pickup   \n",
       "20224          267134   11/1/2019  Trash - Curbside/Alley Missed Pickup   \n",
       "20225          267137   11/1/2019  Trash - Curbside/Alley Missed Pickup   \n",
       "\n",
       "                                             Description  \\\n",
       "1                               Curb/Trash miss Tuesday.   \n",
       "2                               Curb/trash miss Tuesday.   \n",
       "3                                                 missed   \n",
       "4                      Missed the even side of the road.   \n",
       "8                                                Missed.   \n",
       "...                                                  ...   \n",
       "20221                          MISSED...NEIGHBORS MISSED   \n",
       "20222                                       entire alley   \n",
       "20223                                     missed several   \n",
       "20224  Caller stated trash was missed & were only pic...   \n",
       "20225                     possibly others missed as well   \n",
       "\n",
       "                                        Incident Address  Zip Code  \\\n",
       "1                                  4028 Clarksville Pike   37218.0   \n",
       "2                                    6528 Thunderbird Dr   37209.0   \n",
       "3                                   2603 old matthews rd   37207.0   \n",
       "4                                          604 croley dr   37209.0   \n",
       "8                          4484 Lavergne Couchville Pike   37013.0   \n",
       "...                                                  ...       ...   \n",
       "20221                             2731 Murfreesboro Pike   37013.0   \n",
       "20222  1621 Long Ave, Nashville, TN 37206, United States   37206.0   \n",
       "20223  2943 Windemere Cir, Nashville, TN 37214, Unite...   37214.0   \n",
       "20224  3325 Murfreesboro Pike, Nashville, TN 37013, U...   37013.0   \n",
       "20225  604 Somerset Ct, Nashville, TN 37217, United S...   37217.0   \n",
       "\n",
       "      Trash Hauler Trash Route  Council District  State Plan X  State Plan Y  \\\n",
       "1        RED RIVER        4202               1.0   1721259.366   685444.7996   \n",
       "2        RED RIVER        4205              20.0   1707026.753   659887.4716   \n",
       "3        WASTE IND        2206               2.0   1735691.771   685027.2459   \n",
       "4        RED RIVER        4203              20.0   1710185.772   664205.1011   \n",
       "8        RED RIVER        4210              33.0   1794533.514   618749.3427   \n",
       "...            ...         ...               ...           ...           ...   \n",
       "20221    RED RIVER        4502              32.0   1781137.263   632448.5511   \n",
       "20222        METRO        9508               6.0   1749711.399   669201.6016   \n",
       "20223    RED RIVER        1502              15.0   1770293.388   674936.3038   \n",
       "20224    RED RIVER        4502              32.0   1785224.998   627146.4002   \n",
       "20225    RED RIVER        2505              29.0   1781360.323   637742.0068   \n",
       "\n",
       "       LONGITUDE   LATITUDE  \n",
       "1     -86.838103  36.213470  \n",
       "2     -86.885562  36.142923  \n",
       "3     -86.789170  36.212652  \n",
       "4     -86.874995  36.154861  \n",
       "8     -86.588364  36.031728  \n",
       "...          ...        ...  \n",
       "20221 -86.633970  36.069130  \n",
       "20222 -86.741242  36.169482  \n",
       "20223 -86.671647  36.185643  \n",
       "20224 -86.620025  36.054637  \n",
       "20225 -86.633331  36.083675  \n",
       "\n",
       "[15028 rows x 13 columns]>"
      ]
     },
     "execution_count": 28,
     "metadata": {},
     "output_type": "execute_result"
    }
   ],
   "source": [
    "missed_trash_all.head"
   ]
  },
  {
   "cell_type": "code",
   "execution_count": null,
   "id": "4cf947f1-1e0b-4045-b147-b03407ebfb18",
   "metadata": {},
   "outputs": [],
   "source": []
  },
  {
   "cell_type": "code",
   "execution_count": 24,
   "id": "04a572ad-36b8-46aa-afa6-fec17d9f8961",
   "metadata": {},
   "outputs": [],
   "source": [
    "address_count=missed_trash_all['Incident Address'].value_counts()"
   ]
  },
  {
   "cell_type": "code",
   "execution_count": 25,
   "id": "a423155a-4bc1-475e-8a61-6139635df035",
   "metadata": {
    "scrolled": true
   },
   "outputs": [
    {
     "name": "stdout",
     "output_type": "stream",
     "text": [
      "Incident Address\n",
      "12546 Old Hickory Blvd, Nashville, TN 37013, United States    19\n",
      "5135 Hickory Hollow Pkwy                                      17\n",
      "802 Crescent Rd, Nashville, TN 37205, United States           17\n",
      "1816 Jo Johnston Ave, Nashville, TN 37203, United States      16\n",
      "607 Estes Rd, Nashville, TN 37215, United States              15\n",
      "                                                              ..\n",
      "509 Rochelle Dr, Nashville, TN 37220, United States            1\n",
      "2229 Cabin Hill Rd, Nashville, TN 37214, United States         1\n",
      "102 Graeme Dr, Nashville, TN 37214, United States              1\n",
      "911 Petway Ave, Nashville, TN 37206, United States             1\n",
      "604 Somerset Ct, Nashville, TN 37217, United States            1\n",
      "Name: count, Length: 11416, dtype: int64\n"
     ]
    }
   ],
   "source": [
    "print(address_count)"
   ]
  },
  {
   "cell_type": "code",
   "execution_count": 26,
   "id": "eedab115-fcbb-4593-a324-31590b202dd8",
   "metadata": {
    "scrolled": true
   },
   "outputs": [],
   "source": [
    "repeat_addresses = address_count[address_count > 1]"
   ]
  },
  {
   "cell_type": "code",
   "execution_count": 27,
   "id": "e740f354-3edf-4d0a-9138-cefb2a8cf9da",
   "metadata": {
    "scrolled": true
   },
   "outputs": [
    {
     "data": {
      "text/plain": [
       "<bound method NDFrame.head of Incident Address\n",
       "12546 Old Hickory Blvd, Nashville, TN 37013, United States    19\n",
       "5135 Hickory Hollow Pkwy                                      17\n",
       "802 Crescent Rd, Nashville, TN 37205, United States           17\n",
       "1816 Jo Johnston Ave, Nashville, TN 37203, United States      16\n",
       "607 Estes Rd, Nashville, TN 37215, United States              15\n",
       "                                                              ..\n",
       "3702 Hobbs Rd                                                  2\n",
       "1114 Saunders Ave, Madison, TN 37115, United States            2\n",
       "1824 Shackleford Rd B                                          2\n",
       "4014 Dorcas Dr, Nashville, TN 37215, United States             2\n",
       "109 Jocelyn Hills Rd                                           2\n",
       "Name: count, Length: 2226, dtype: int64>"
      ]
     },
     "execution_count": 27,
     "metadata": {},
     "output_type": "execute_result"
    }
   ],
   "source": [
    "repeat_addresses.head"
   ]
  },
  {
   "cell_type": "code",
   "execution_count": 30,
   "id": "49a2ee41-6a66-4615-958c-6ee25ead9057",
   "metadata": {
    "scrolled": true
   },
   "outputs": [
    {
     "name": "stdout",
     "output_type": "stream",
     "text": [
      "  Trash Hauler  Missed Pickups\n",
      "1    RED RIVER           10715\n",
      "0        METRO            2688\n",
      "2    WASTE IND            1019\n"
     ]
    }
   ],
   "source": [
    "missed_by_hauler = (missed_trash_all.groupby('Trash Hauler').size().reset_index(name='Missed Pickups').sort_values(by='Missed Pickups', ascending=False))\n",
    "print(missed_by_hauler)"
   ]
  },
  {
   "cell_type": "code",
   "execution_count": 31,
   "id": "93b8ff82-099f-4c15-b5af-557d49cb3fbb",
   "metadata": {
    "scrolled": true
   },
   "outputs": [
    {
     "name": "stdout",
     "output_type": "stream",
     "text": [
      "                                        Incident Address Trash Hauler  \\\n",
      "1206   12546 Old Hickory Blvd, Nashville, TN 37013, U...    RED RIVER   \n",
      "2564   1816 Jo Johnston Ave, Nashville, TN 37203, Uni...        METRO   \n",
      "10345  802 Crescent Rd, Nashville, TN 37205, United S...    RED RIVER   \n",
      "8603                            5135 Hickory Hollow Pkwy    RED RIVER   \n",
      "9338    607 Estes Rd, Nashville, TN 37215, United States    RED RIVER   \n",
      "6527                                   3710 N NATCHEZ CT    RED RIVER   \n",
      "9216   6007 Obrien Ave, Nashville, TN 37209, United S...    RED RIVER   \n",
      "5649   320 Old Hickory Blvd, Nashville, TN 37221, Uni...    RED RIVER   \n",
      "630    111 Barton Ln, Nashville, TN 37214, United States    RED RIVER   \n",
      "1953   1537 Harding Pl, Nashville, TN 37215, United S...    RED RIVER   \n",
      "\n",
      "       Missed Count  \n",
      "1206             19  \n",
      "2564             16  \n",
      "10345            16  \n",
      "8603             16  \n",
      "9338             15  \n",
      "6527             14  \n",
      "9216             14  \n",
      "5649             12  \n",
      "630              11  \n",
      "1953             11  \n"
     ]
    }
   ],
   "source": [
    "address_hauler_counts = (\n",
    "    missed_trash_all\n",
    "    .groupby(['Incident Address', 'Trash Hauler'])\n",
    "    .size()\n",
    "    .reset_index(name='Missed Count')\n",
    "    .sort_values(by='Missed Count', ascending=False)\n",
    ")\n",
    "\n",
    "print(address_hauler_counts.head(10))"
   ]
  },
  {
   "cell_type": "code",
   "execution_count": 33,
   "id": "bad41ec7-4ae8-40a9-aed6-d960fbb9b84b",
   "metadata": {},
   "outputs": [],
   "source": [
    "hauler_groups = {\n",
    "    hauler: group \n",
    "    for hauler, group in missed_trash_all.groupby('Trash Hauler')}"
   ]
  },
  {
   "cell_type": "code",
   "execution_count": 35,
   "id": "8b11e2fd-88bf-4b16-8daf-ad2da2407180",
   "metadata": {},
   "outputs": [
    {
     "data": {
      "text/plain": [
       "<bound method DataFrame.info of        Request Number Date Opened                               Request  \\\n",
       "9               25331   11/1/2017  Trash - Curbside/Alley Missed Pickup   \n",
       "12              25359   11/1/2017  Trash - Curbside/Alley Missed Pickup   \n",
       "22              25471   11/1/2017  Trash - Curbside/Alley Missed Pickup   \n",
       "39              25539   11/2/2017  Trash - Curbside/Alley Missed Pickup   \n",
       "56              25694   11/2/2017  Trash - Curbside/Alley Missed Pickup   \n",
       "...               ...         ...                                   ...   \n",
       "20212          267023   11/1/2019  Trash - Curbside/Alley Missed Pickup   \n",
       "20213          267035   11/1/2019  Trash - Curbside/Alley Missed Pickup   \n",
       "20216          267089   11/1/2019  Trash - Curbside/Alley Missed Pickup   \n",
       "20219          267119   11/1/2019  Trash - Curbside/Alley Missed Pickup   \n",
       "20222          267126   11/1/2019  Trash - Curbside/Alley Missed Pickup   \n",
       "\n",
       "                                             Description  \\\n",
       "9                      Trash missed Tuesday again, ALLEY   \n",
       "12                Missed. Does not have access to alley.   \n",
       "22     Alley trash miss Tuesday, also others as well,...   \n",
       "39     Alley trash miss for Wednesday. Wants cart emp...   \n",
       "56                                               Missed.   \n",
       "...                                                  ...   \n",
       "20212  Trash/missed Thursday {carts sit's on the Arch...   \n",
       "20213                  constantly missed, please pick up   \n",
       "20216             The entire street/missed/curb Thursday   \n",
       "20219                               church missed as wel   \n",
       "20222                                       entire alley   \n",
       "\n",
       "                                        Incident Address  Zip Code  \\\n",
       "9                                        1206 Ireland St   37208.0   \n",
       "12                                       830 Meridian St   37207.0   \n",
       "22                                     1904 MeHarry Blvd   37208.0   \n",
       "39                                       2524 Batavia St   37208.0   \n",
       "56                                   1413 Montgomery Ave   37207.0   \n",
       "...                                                  ...       ...   \n",
       "20212  1098 12th Ave S, Nashville, TN 37203, United S...   37203.0   \n",
       "20213  1400 Dickerson Pike, Nashville, TN 37207, Unit...   37207.0   \n",
       "20216  1008 Waverly Ave, Nashville, TN 37203, United ...   37203.0   \n",
       "20219  1701 Long Ave, Nashville, TN 37206, United States   37206.0   \n",
       "20222  1621 Long Ave, Nashville, TN 37206, United States   37206.0   \n",
       "\n",
       "      Trash Hauler Trash Route  Council District  State Plan X  State Plan Y  \\\n",
       "9            METRO        9208              19.0   1733029.474   668762.6409   \n",
       "12           METRO        9207               5.0   1741744.712   675328.6661   \n",
       "22           METRO        9208              21.0   1730048.071   668927.1905   \n",
       "39           METRO        9303              21.0   1727574.081   666486.4018   \n",
       "56           METRO        9203               5.0   1745688.164   679130.3993   \n",
       "...            ...         ...               ...           ...           ...   \n",
       "20212        METRO        9407              17.0   1736440.901   660570.3200   \n",
       "20213        METRO        9204               5.0   1740796.199   679412.7988   \n",
       "20216        METRO        9407              17.0   1736525.000   657016.0014   \n",
       "20219        METRO        9508               6.0   1750024.587   669155.3125   \n",
       "20222        METRO        9508               6.0   1749711.399   669201.6016   \n",
       "\n",
       "       LONGITUDE   LATITUDE  \n",
       "9     -86.797745  36.167916  \n",
       "12    -86.768395  36.186144  \n",
       "22    -86.807850  36.168301  \n",
       "39    -86.816162  36.161540  \n",
       "56    -86.755132  36.196671  \n",
       "...          ...        ...  \n",
       "20212 -86.785965  36.145489  \n",
       "20213 -86.771718  36.197342  \n",
       "20216 -86.785584  36.135727  \n",
       "20219 -86.740180  36.169362  \n",
       "20222 -86.741242  36.169482  \n",
       "\n",
       "[2688 rows x 13 columns]>"
      ]
     },
     "execution_count": 35,
     "metadata": {},
     "output_type": "execute_result"
    }
   ],
   "source": [
    "hauler_groups['METRO'].info"
   ]
  },
  {
   "cell_type": "code",
   "execution_count": 46,
   "id": "6d4297ca-666f-4199-846f-367d4590c34c",
   "metadata": {},
   "outputs": [],
   "source": [
    "metro_address_counts = hauler_groups['METRO']['Incident Address'].value_counts()\n",
    "metro_repeat_addresses = metro_address_counts[metro_address_counts > 1]"
   ]
  },
  {
   "cell_type": "code",
   "execution_count": 47,
   "id": "8a4b9732-13ed-4333-a2a6-ee1ea7556ffa",
   "metadata": {},
   "outputs": [
    {
     "name": "stdout",
     "output_type": "stream",
     "text": [
      "Incident Address\n",
      "1816 Jo Johnston Ave, Nashville, TN 37203, United States    16\n",
      "2611 12th Ave S, Nashville, TN 37204, United States          8\n",
      "110 George L Davis Blvd                                      8\n",
      "2813 Delaware Ave                                            7\n",
      "762 Douglas Ave, Nashville, TN 37207, United States          6\n",
      "                                                            ..\n",
      "1219 Joseph Ave                                              2\n",
      "2617 delk ave                                                2\n",
      "2310 14th Ave N, Nashville, TN 37208, United States          2\n",
      "1326 Pennock Ave, Nashville, TN 37207, United States         2\n",
      "918 Halcyon Ave, Nashville, TN 37204, United States          2\n",
      "Name: count, Length: 389, dtype: int64\n"
     ]
    }
   ],
   "source": [
    "print(metro_repeat_addresses)"
   ]
  },
  {
   "cell_type": "code",
   "execution_count": 49,
   "id": "6801f616-4a7a-4081-9a25-b11b220f613f",
   "metadata": {},
   "outputs": [
    {
     "name": "stdout",
     "output_type": "stream",
     "text": [
      "969\n"
     ]
    }
   ],
   "source": [
    "total_metro= metro_repeat_addresses.sum()\n",
    "print(total_metro)"
   ]
  },
  {
   "cell_type": "code",
   "execution_count": 51,
   "id": "517efeb7-955a-436b-bd74-1adf1b9e1b18",
   "metadata": {},
   "outputs": [
    {
     "name": "stdout",
     "output_type": "stream",
     "text": [
      "389\n"
     ]
    }
   ],
   "source": [
    "metro_count=metro_repeat_addresses.count()\n",
    "print(metro_count)"
   ]
  },
  {
   "cell_type": "code",
   "execution_count": 52,
   "id": "da5903b8-166b-4722-bdee-28cc654551b7",
   "metadata": {},
   "outputs": [
    {
     "name": "stdout",
     "output_type": "stream",
     "text": [
      "116000\n"
     ]
    }
   ],
   "source": [
    "metro_fines= (total_metro-metro_count) * 200\n",
    "print(metro_fines)"
   ]
  },
  {
   "cell_type": "code",
   "execution_count": null,
   "id": "ae4e10d2-dfef-418e-9493-8e1d0d26de2b",
   "metadata": {},
   "outputs": [],
   "source": []
  }
 ],
 "metadata": {
  "kernelspec": {
   "display_name": "Python 3 (ipykernel)",
   "language": "python",
   "name": "python3"
  },
  "language_info": {
   "codemirror_mode": {
    "name": "ipython",
    "version": 3
   },
   "file_extension": ".py",
   "mimetype": "text/x-python",
   "name": "python",
   "nbconvert_exporter": "python",
   "pygments_lexer": "ipython3",
   "version": "3.10.17"
  }
 },
 "nbformat": 4,
 "nbformat_minor": 5
}
